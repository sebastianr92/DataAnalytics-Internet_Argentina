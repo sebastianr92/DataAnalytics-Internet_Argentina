{
 "cells": [
  {
   "cell_type": "code",
   "execution_count": 1,
   "metadata": {},
   "outputs": [],
   "source": [
    "import pandas as pd\n",
    "from ydata_profiling import ProfileReport\n",
    "import numpy as np\n",
    "import warnings\n",
    "#warnings.filterwarnings('ignore')\n",
    "import seaborn as sns\n",
    "import matplotlib.pyplot as plt"
   ]
  },
  {
   "cell_type": "code",
   "execution_count": 2,
   "metadata": {},
   "outputs": [],
   "source": [
    "df2_acceso_por_provincia= pd.read_excel('Data\\Internet_Penetracion.xlsx', sheet_name= \"Penetracion-hogares\")"
   ]
  },
  {
   "cell_type": "code",
   "execution_count": 17,
   "metadata": {},
   "outputs": [],
   "source": [
    "kpi1= df2_acceso_por_provincia.groupby([\"Provincia\", \"Año\"])[\"Accesos por cada 100 hogares\"].mean().reset_index()\n",
    "kpi1[kpi1[\"Año\"] == 2022]\n",
    "kpi1[\"Objetivo\"] = kpi1[\"Accesos por cada 100 hogares\"]+ kpi1[\"Accesos por cada 100 hogares\"]*0.06\n",
    "kpi1.to_csv(\"Data/Kpi1.csv\")"
   ]
  }
 ],
 "metadata": {
  "kernelspec": {
   "display_name": "Python 3",
   "language": "python",
   "name": "python3"
  },
  "language_info": {
   "codemirror_mode": {
    "name": "ipython",
    "version": 3
   },
   "file_extension": ".py",
   "mimetype": "text/x-python",
   "name": "python",
   "nbconvert_exporter": "python",
   "pygments_lexer": "ipython3",
   "version": "3.11.4"
  }
 },
 "nbformat": 4,
 "nbformat_minor": 2
}
